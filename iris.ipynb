{
  "nbformat": 4,
  "nbformat_minor": 0,
  "metadata": {
    "colab": {
      "provenance": [],
      "authorship_tag": "ABX9TyOdaK7pPZxe25asDXbB3hw6",
      "include_colab_link": true
    },
    "kernelspec": {
      "name": "python3",
      "display_name": "Python 3"
    },
    "language_info": {
      "name": "python"
    }
  },
  "cells": [
    {
      "cell_type": "markdown",
      "metadata": {
        "id": "view-in-github",
        "colab_type": "text"
      },
      "source": [
        "<a href=\"https://colab.research.google.com/github/Jenicisprakash/machine-learning/blob/main/iris.ipynb\" target=\"_parent\"><img src=\"https://colab.research.google.com/assets/colab-badge.svg\" alt=\"Open In Colab\"/></a>"
      ]
    },
    {
      "cell_type": "code",
      "execution_count": 41,
      "metadata": {
        "id": "O6ZyFfo-QytV"
      },
      "outputs": [],
      "source": [
        "#libraries\n",
        "import pandas as pd\n",
        "from sklearn.datasets import load_iris\n",
        "from sklearn.tree import DecisionTreeClassifier\n",
        "from sklearn.model_selection import train_test_split\n",
        "from sklearn.metrics import accuracy_score,confusion_matrix"
      ]
    },
    {
      "cell_type": "code",
      "source": [
        "# load data\n",
        "iris = load_iris()"
      ],
      "metadata": {
        "id": "hy1OZtd9SDH9"
      },
      "execution_count": 42,
      "outputs": []
    },
    {
      "cell_type": "code",
      "source": [
        "#x,y values\n",
        "X = pd.DataFrame(iris.data , columns = iris.feature_names)\n",
        "y = pd.Series(iris.target)"
      ],
      "metadata": {
        "id": "iAjmqlT9TAnP"
      },
      "execution_count": 43,
      "outputs": []
    },
    {
      "cell_type": "code",
      "source": [
        "#model_selection\n",
        "X_train, X_test, y_train, y_test = train_test_split( X,y, test_size=0.2, random_state=42)"
      ],
      "metadata": {
        "id": "RMZLZkJOXIqN"
      },
      "execution_count": 44,
      "outputs": []
    },
    {
      "cell_type": "code",
      "source": [
        "clf = DecisionTreeClassifier()\n",
        "\n",
        "clf.fit(X_train ,y_train)"
      ],
      "metadata": {
        "id": "CMykxCGKW0m2"
      },
      "execution_count": null,
      "outputs": []
    },
    {
      "cell_type": "code",
      "source": [
        "#prediction\n",
        "y_pred = clf.predict(X_test)"
      ],
      "metadata": {
        "id": "vOOHjN8CWf0-"
      },
      "execution_count": 47,
      "outputs": []
    },
    {
      "cell_type": "code",
      "source": [
        "#result\n",
        "accuracy = accuracy_score(y_test , y_pred)\n",
        "conf_matrix =  confusion_matrix(y_test , y_pred)\n",
        "\n",
        "print(f'Accuracy: {accuracy}')\n",
        "print(f'confusion_matrix : \\n {conf_matrix}')"
      ],
      "metadata": {
        "id": "ugF1caMCV8-Y"
      },
      "execution_count": null,
      "outputs": []
    }
  ]
}