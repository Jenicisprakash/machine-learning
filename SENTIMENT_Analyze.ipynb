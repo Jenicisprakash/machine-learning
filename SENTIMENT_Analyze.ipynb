{
  "cells": [
    {
      "cell_type": "markdown",
      "metadata": {
        "id": "view-in-github",
        "colab_type": "text"
      },
      "source": [
        "<a href=\"https://colab.research.google.com/github/Jenicisprakash/machine-learning/blob/main/SENTIMENT_Analyze.ipynb\" target=\"_parent\"><img src=\"https://colab.research.google.com/assets/colab-badge.svg\" alt=\"Open In Colab\"/></a>"
      ]
    },
    {
      "cell_type": "code",
      "execution_count": 62,
      "metadata": {
        "id": "KwfYqpcektfL"
      },
      "outputs": [],
      "source": [
        "#import libraries\n",
        "import nltk\n",
        "from nltk.corpus import movie_reviews\n",
        "from nltk.classify import NaiveBayesClassifier\n",
        "from nltk.classify.util import accuracy\n",
        "from nltk.corpus import stopwords\n",
        "from random import shuffle"
      ]
    },
    {
      "cell_type": "code",
      "execution_count": 63,
      "metadata": {
        "colab": {
          "base_uri": "https://localhost:8080/"
        },
        "id": "Jfz20huac6xm",
        "outputId": "aa1eb3c3-659f-4917-bcae-182f9b0515d9"
      },
      "outputs": [
        {
          "output_type": "stream",
          "name": "stderr",
          "text": [
            "[nltk_data] Downloading package movie_reviews to /root/nltk_data...\n",
            "[nltk_data]   Package movie_reviews is already up-to-date!\n",
            "[nltk_data] Downloading package punkt_tab to /root/nltk_data...\n",
            "[nltk_data]   Package punkt_tab is already up-to-date!\n",
            "[nltk_data] Downloading package stopwords to /root/nltk_data...\n",
            "[nltk_data]   Package stopwords is already up-to-date!\n"
          ]
        },
        {
          "output_type": "execute_result",
          "data": {
            "text/plain": [
              "True"
            ]
          },
          "metadata": {},
          "execution_count": 63
        }
      ],
      "source": [
        "#download nltk data files\n",
        "nltk.download('movie_reviews')\n",
        "nltk.download('punkt_tab')\n",
        "nltk.download('stopwords')"
      ]
    },
    {
      "cell_type": "code",
      "execution_count": 64,
      "metadata": {
        "id": "WLBf4xHad6b-"
      },
      "outputs": [],
      "source": [
        "#preprocess\n",
        "def extract_features(word_list):\n",
        "    return dict([(word, True) for word in word_list])"
      ]
    },
    {
      "cell_type": "code",
      "execution_count": 65,
      "metadata": {
        "id": "6N2PBWLxeDCJ"
      },
      "outputs": [],
      "source": [
        "#load dataset\n",
        "documents = [(list(movie_reviews.words(fileid)), category) for category in movie_reviews.categories() for fileid in movie_reviews.fileids(category)]\n"
      ]
    },
    {
      "cell_type": "code",
      "source": [
        "#shuffle the data\n",
        "shuffle(documents)"
      ],
      "metadata": {
        "id": "KtXiJBGwirkV"
      },
      "execution_count": 66,
      "outputs": []
    },
    {
      "cell_type": "code",
      "source": [
        "#prepare train& test\n",
        "features = [(extract_features(d),(c)) for (d,c) in documents]\n",
        "train_data = features[:1500]\n",
        "test_data = features[1500:]\n"
      ],
      "metadata": {
        "id": "GxC81jSbi0V2"
      },
      "execution_count": 67,
      "outputs": []
    },
    {
      "cell_type": "code",
      "source": [
        "#train Naivebayes\n",
        "classifier = NaiveBayesClassifier.train(train_data)"
      ],
      "metadata": {
        "id": "UxG-ZDx1jP2Q"
      },
      "execution_count": 68,
      "outputs": []
    },
    {
      "cell_type": "code",
      "source": [
        "#evaluate\n",
        "accurracy = nltk.classify.accuracy(classifier,test_data)\n",
        "print(f\"Accuracy : {accurracy * 100:.2f}%\")"
      ],
      "metadata": {
        "colab": {
          "base_uri": "https://localhost:8080/"
        },
        "id": "6V5E244mjUU4",
        "outputId": "d101b36b-6643-4bc2-aa30-81df6aca59f2"
      },
      "execution_count": 69,
      "outputs": [
        {
          "output_type": "stream",
          "name": "stdout",
          "text": [
            "Accuracy : 65.40%\n"
          ]
        }
      ]
    },
    {
      "cell_type": "code",
      "source": [
        "#show features\n",
        "classifier.show_most_informative_features(10)"
      ],
      "metadata": {
        "colab": {
          "base_uri": "https://localhost:8080/"
        },
        "id": "vCvhNj6RmT5r",
        "outputId": "e1547350-a0f6-471b-8ab9-707bd798268a"
      },
      "execution_count": 70,
      "outputs": [
        {
          "output_type": "stream",
          "name": "stdout",
          "text": [
            "Most Informative Features\n",
            "             outstanding = True              pos : neg    =     32.7 : 1.0\n",
            "                 miscast = True              neg : pos    =     12.2 : 1.0\n",
            "               confident = True              pos : neg    =     11.8 : 1.0\n",
            "                   sucks = True              neg : pos    =     11.5 : 1.0\n",
            "               stupidity = True              neg : pos    =     11.3 : 1.0\n",
            "                  avoids = True              pos : neg    =     11.1 : 1.0\n",
            "               atrocious = True              neg : pos    =     10.9 : 1.0\n",
            "                 freddie = True              neg : pos    =     10.2 : 1.0\n",
            "              unoriginal = True              neg : pos    =     10.2 : 1.0\n",
            "              astounding = True              pos : neg    =      9.8 : 1.0\n"
          ]
        }
      ]
    },
    {
      "cell_type": "code",
      "source": [
        "#test new word\n",
        "def analyze_sentiment(text):\n",
        "    words = nltk.word_tokenize(text)\n",
        "    words = [word.lower() for word in words if word.isalpha()]\n",
        "    words = [word for word in words if word not in stopwords.words('english')]\n",
        "    # Return the processed list of words\n",
        "    return words\n",
        "\n",
        "# Define the text to analyze\n",
        "new_text = input()\n",
        "\n",
        "# Call the analyze_sentiment function to get the processed words\n",
        "processed_words = analyze_sentiment(new_text)\n",
        "\n",
        "#predict\n",
        "features = extract_features(processed_words)\n",
        "sentiment = classifier.classify(features)\n",
        "print(f\"Sentiment: {sentiment}\")\n"
      ],
      "metadata": {
        "colab": {
          "base_uri": "https://localhost:8080/"
        },
        "id": "vZuJwn0_ma7U",
        "outputId": "4cfc1804-bf60-45b3-ec33-9fc141d1cc1f"
      },
      "execution_count": 87,
      "outputs": [
        {
          "output_type": "stream",
          "name": "stdout",
          "text": [
            "the moive waste of time and money\n",
            "Sentiment: neg\n"
          ]
        }
      ]
    }
  ],
  "metadata": {
    "colab": {
      "provenance": [],
      "authorship_tag": "ABX9TyMUZroEuBQOHlxtl0TXI6D7",
      "include_colab_link": true
    },
    "kernelspec": {
      "display_name": "Python 3",
      "name": "python3"
    },
    "language_info": {
      "name": "python"
    }
  },
  "nbformat": 4,
  "nbformat_minor": 0
}